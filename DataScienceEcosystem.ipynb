{
 "cells": [
  {
   "cell_type": "markdown",
   "id": "1b584825-ab9b-4dea-b88d-b0fbdb75043f",
   "metadata": {},
   "source": [
    "# Data Science Tools and Ecosystem"
   ]
  },
  {
   "cell_type": "markdown",
   "id": "888691f2-59ea-43b2-b020-f23af804831e",
   "metadata": {},
   "source": [
    "In this notebook, Data Science Tools and Ecosystem are summarized."
   ]
  },
  {
   "cell_type": "markdown",
   "id": "74b0bd1e-ce0b-4eb2-a2e0-8e4cb7579cb4",
   "metadata": {},
   "source": [
    "## Some of the popular languages that Data Scientists use are:\n",
    "\n",
    "1.#Python: Known for its simplicity and versatility, Python is a popular choice among data scientists.\n",
    "2.#R: A statistical programming language, R is widely used for data analysis and visualization.\n",
    "3.#Julia: A new language gaining popularity, Julia is known for its high performance and dynamism."
   ]
  },
  {
   "cell_type": "markdown",
   "id": "a24079f8-646f-4257-a59c-23a18d7049ea",
   "metadata": {},
   "source": [
    "## Some of the commonly used libraries used by Data Scientists include:\n",
    "1.NumPy\n",
    "2.Pandas\n",
    "3.Scikit-learn"
   ]
  },
  {
   "cell_type": "markdown",
   "id": "208ea9d7-0c84-451f-b326-7255c95f9870",
   "metadata": {},
   "source": [
    "# Table"
   ]
  },
  {
   "cell_type": "markdown",
   "id": "bb0c16fb-161a-4031-b89c-82ad02c5a026",
   "metadata": {},
   "source": [
    "| Data Science Tools |\n",
    "| ------------------- |\n",
    "| Jupyter Notebook   |\n",
    "| R Studio           |\n",
    "| Python             |\n",
    "| VS Code            |"
   ]
  },
  {
   "cell_type": "markdown",
   "id": "e423099f-19bc-4bf6-bd10-3f8546ef6213",
   "metadata": {},
   "source": [
    "### Below are a few examples of evaluating arithmetic expressions in Python"
   ]
  },
  {
   "cell_type": "code",
   "execution_count": 22,
   "id": "bcdd4889-8dab-40d6-93d8-47b712a5c505",
   "metadata": {},
   "outputs": [
    {
     "name": "stdout",
     "output_type": "stream",
     "text": [
      "17\n"
     ]
    }
   ],
   "source": [
    "# This is a simple arithmetic expression to multiply then add integers\n",
    "print((3*4)+5)"
   ]
  },
  {
   "cell_type": "code",
   "execution_count": 23,
   "id": "8a7f47c2-5396-4000-8319-0a912a67dfe3",
   "metadata": {},
   "outputs": [
    {
     "name": "stdout",
     "output_type": "stream",
     "text": [
      "3.3333333333333335\n"
     ]
    }
   ],
   "source": [
    "# This will convert 200 minutes to hours by dividing by 60\n",
    "print(200/60)"
   ]
  },
  {
   "cell_type": "markdown",
   "id": "492c7398-b243-49bf-842b-bd715b119776",
   "metadata": {},
   "source": [
    "# Objectives"
   ]
  },
  {
   "cell_type": "markdown",
   "id": "5b00b778-caa7-4d76-a6d7-63458911891a",
   "metadata": {},
   "source": [
    "* List popular languages for Data Science\n",
    "* Evaluate arithmetic expressions in Python\n",
    "* Convert minutes to hours using Python"
   ]
  },
  {
   "cell_type": "markdown",
   "id": "b430f10c-6bb1-4892-b675-da178c4ff0da",
   "metadata": {},
   "source": [
    "## Author"
   ]
  },
  {
   "cell_type": "markdown",
   "id": "0ac9b555-06b6-4f10-8455-8eafd6db9e4b",
   "metadata": {},
   "source": [
    "Akash Devulapally"
   ]
  }
 ],
 "metadata": {
  "kernelspec": {
   "display_name": "Python 3 (ipykernel)",
   "language": "python",
   "name": "python3"
  },
  "language_info": {
   "codemirror_mode": {
    "name": "ipython",
    "version": 3
   },
   "file_extension": ".py",
   "mimetype": "text/x-python",
   "name": "python",
   "nbconvert_exporter": "python",
   "pygments_lexer": "ipython3",
   "version": "3.12.4"
  }
 },
 "nbformat": 4,
 "nbformat_minor": 5
}
